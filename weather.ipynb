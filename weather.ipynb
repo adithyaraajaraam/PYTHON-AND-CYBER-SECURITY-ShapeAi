{
  "nbformat": 4,
  "nbformat_minor": 0,
  "metadata": {
    "colab": {
      "name": "Adithya.ipynb",
      "provenance": []
    },
    "kernelspec": {
      "name": "python3",
      "display_name": "Python 3"
    },
    "language_info": {
      "name": "python"
    }
  },
  "cells": [
    {
      "cell_type": "markdown",
      "metadata": {
        "id": "8tTigvW-EGUf"
      },
      "source": [
        "## Weather Report  "
      ]
    },
    {
      "cell_type": "code",
      "metadata": {
        "id": "iJe-kMil-eGp"
      },
      "source": [
        "import requests"
      ],
      "execution_count": 5,
      "outputs": []
    },
    {
      "cell_type": "code",
      "metadata": {
        "id": "WVd3sV2r-oJg"
      },
      "source": [
        "from datetime import datetime\n"
      ],
      "execution_count": 6,
      "outputs": []
    },
    {
      "cell_type": "code",
      "metadata": {
        "colab": {
          "base_uri": "https://localhost:8080/"
        },
        "id": "GFD8O51v-zrv",
        "outputId": "54618eb0-fe21-4bdd-c206-aae1b71ab07b"
      },
      "source": [
        "api_key = '87d845b0b6cf29baa1a73cc34b067a95'\n",
        "location = input(\"Enter the city name: \")\n"
      ],
      "execution_count": 7,
      "outputs": [
        {
          "output_type": "stream",
          "text": [
            "Enter the city name: chennai\n"
          ],
          "name": "stdout"
        }
      ]
    },
    {
      "cell_type": "code",
      "metadata": {
        "id": "TzVGBati-5iI"
      },
      "source": [
        "complete_api_link = \"https://api.openweathermap.org/data/2.5/weather?q=\"+location+\"&appid=\"+api_key\n",
        "api_link = requests.get(complete_api_link)\n",
        "api_data = api_link.json()\n"
      ],
      "execution_count": 8,
      "outputs": []
    },
    {
      "cell_type": "code",
      "metadata": {
        "id": "uRBf5p0F_EFc"
      },
      "source": [
        "temp_city = ((api_data['main']['temp']) - 273.15)"
      ],
      "execution_count": 9,
      "outputs": []
    },
    {
      "cell_type": "code",
      "metadata": {
        "id": "rvPYq5TG_M2h"
      },
      "source": [
        "weather_descrip = api_data['weather'][0]['description']"
      ],
      "execution_count": 11,
      "outputs": []
    },
    {
      "cell_type": "code",
      "metadata": {
        "id": "2qe6N81b_QMC"
      },
      "source": [
        "humdt = api_data['main']['humidity']"
      ],
      "execution_count": 12,
      "outputs": []
    },
    {
      "cell_type": "code",
      "metadata": {
        "id": "yyoY6M0z_cNL"
      },
      "source": [
        "wind_spd = api_data['wind']['speed']"
      ],
      "execution_count": 13,
      "outputs": []
    },
    {
      "cell_type": "code",
      "metadata": {
        "id": "9qKix2E8_gFC"
      },
      "source": [
        "date_time = datetime.now().strftime(\"%d %b %Y | %I:%M:%S %p\")"
      ],
      "execution_count": 14,
      "outputs": []
    },
    {
      "cell_type": "code",
      "metadata": {
        "colab": {
          "base_uri": "https://localhost:8080/"
        },
        "id": "tVytjK3d_kWx",
        "outputId": "9a7f69e2-c778-416f-84aa-6bddaafaeebb"
      },
      "source": [
        "print (\"-------------------------------------------------------------\")\n",
        "print (\"Weather Stats for - {}  || {}\".format(location.upper(), date_time))\n",
        "print (\"-------------------------------------------------------------\")"
      ],
      "execution_count": 15,
      "outputs": [
        {
          "output_type": "stream",
          "text": [
            "-------------------------------------------------------------\n",
            "Weather Stats for - CHENNAI  || 23 Jun 2021 | 01:31:58 AM\n",
            "-------------------------------------------------------------\n"
          ],
          "name": "stdout"
        }
      ]
    },
    {
      "cell_type": "code",
      "metadata": {
        "colab": {
          "base_uri": "https://localhost:8080/"
        },
        "id": "rsm1v5lz_qJ1",
        "outputId": "b4d1d659-391a-4cd0-9009-7e18f8a74174"
      },
      "source": [
        "print (\"Current temperature is: {:.2f} deg C\".format(temp_city))"
      ],
      "execution_count": 16,
      "outputs": [
        {
          "output_type": "stream",
          "text": [
            "Current temperature is: 24.97 deg C\n"
          ],
          "name": "stdout"
        }
      ]
    },
    {
      "cell_type": "code",
      "metadata": {
        "colab": {
          "base_uri": "https://localhost:8080/"
        },
        "id": "kP9g2KUr_1vM",
        "outputId": "d4a6d33e-3bd1-4857-bd89-6b807fd9491f"
      },
      "source": [
        "print (\"Current weather is   :\",weather_descrip)"
      ],
      "execution_count": 17,
      "outputs": [
        {
          "output_type": "stream",
          "text": [
            "Current weather is   : haze\n"
          ],
          "name": "stdout"
        }
      ]
    },
    {
      "cell_type": "code",
      "metadata": {
        "colab": {
          "base_uri": "https://localhost:8080/"
        },
        "id": "su4auId2__S1",
        "outputId": "9c760959-582e-478a-f8e7-600769d9dbd3"
      },
      "source": [
        "print (\"Current Humidity is    :\",humdt, '%')"
      ],
      "execution_count": 18,
      "outputs": [
        {
          "output_type": "stream",
          "text": [
            "Current Humidity is    : 94 %\n"
          ],
          "name": "stdout"
        }
      ]
    },
    {
      "cell_type": "code",
      "metadata": {
        "colab": {
          "base_uri": "https://localhost:8080/"
        },
        "id": "XHYqCLsfAIrT",
        "outputId": "0d1460ba-79c0-4a9b-df0f-8bea2a005ece"
      },
      "source": [
        "print (\"Current wind speed    :\",wind_spd ,'kmph')"
      ],
      "execution_count": 19,
      "outputs": [
        {
          "output_type": "stream",
          "text": [
            "Current wind speed    : 2.54 kmph\n"
          ],
          "name": "stdout"
        }
      ]
    }
  ]
}